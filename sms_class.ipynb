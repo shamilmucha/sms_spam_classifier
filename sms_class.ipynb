
import pandas as pd
from sklearn.model_selection import train_test_split
from sklearn.feature_extraction.text import TfidfVectorizer
from sklearn.naive_bayes import MultinomialNB
from sklearn.metrics import accuracy_score
from sklearn.metrics import classification_report

#loading the dataset

sms = pd.read_csv('/path to file/spam.csv', encoding = 'latin_1')
sms

#removing unwanted columns in the datase

sms = sms.iloc[:, :2]
sms

#renaming the values spam and ham as 0 and 1

sms = sms.rename(columns={'v1': 'label', 'v2': 'message'})
sms

sms['label'] = sms['label'].map({'spam' : 0, 'ham' : 1})
sms

#making all the text lowercase

sms['message'] = sms['message'].str.lower()
sms

#checking for null values

print(sms.isnull().sum())

#splitting the dataset into training and testing sets

x_train, x_test, y_train, y_test = train_test_split(sms['message'], sms['label'], test_size=0.25, random_state=42)

#convert text data into TF-IDF vectors

vectorizer = TfidfVectorizer(stop_words='english')
x_train_vec = vectorizer.fit_transform(x_train)
x_test_vec = vectorizer.transform(x_test)

#train a native Bayes classifier

model = MultinomialNB()
model.fit(x_train_vec,y_train)

#predict the values

y_pred = model.predict(x_test_vec)

#getting the accuracy and report

print("Accuracy: ", accuracy_score(y_test, y_pred))

print("\n Classification Report: \n", classification_report(y_test, y_pred))
